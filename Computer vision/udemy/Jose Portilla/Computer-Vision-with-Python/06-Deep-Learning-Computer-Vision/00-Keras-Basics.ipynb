{
 "cells": [
  {
   "cell_type": "markdown",
   "metadata": {},
   "source": [
    "# Keras Basics\n",
    "\n",
    "Welcome to the section on deep learning! We'll be using Keras with a TensorFlow backend to perform our deep learning operations.\n",
    "\n",
    "This means we should get familiar with some Keras fundamentals and basics!\n",
    "\n",
    "## Imports\n",
    "\n"
   ]
  },
  {
   "cell_type": "code",
   "execution_count": 59,
   "metadata": {},
   "outputs": [],
   "source": [
    "import numpy as np"
   ]
  },
  {
   "cell_type": "markdown",
   "metadata": {},
   "source": [
    "## Dataset\n",
    "\n",
    "We will use the Bank Authentication Data Set to start off with. This data set consists of various image features derived from images that had 400 x 400 pixels. You should note **the data itself that we will be using ARE NOT ACTUAL IMAGES**, they are **features** of images. In the next lecture we will cover grabbing and working with image data with Keras. This notebook focuses on learning the basics of building a neural network with Keras.\n",
    "\n",
    "_____\n",
    "More info on the data set:\n",
    "\n",
    "https://archive.ics.uci.edu/ml/datasets/banknote+authentication\n",
    "\n",
    "Data were extracted from images that were taken from genuine and forged banknote-like specimens. For digitization, an industrial camera usually used for print inspection was used. The final images have 400x 400 pixels. Due to the object lens and distance to the investigated object gray-scale pictures with a resolution of about 660 dpi were gained. Wavelet Transform tool were used to extract features from images.\n",
    "\n",
    "\n",
    "Attribute Information:\n",
    "\n",
    "1. variance of Wavelet Transformed image (continuous) \n",
    "2. skewness of Wavelet Transformed image (continuous) \n",
    "3. curtosis of Wavelet Transformed image (continuous) \n",
    "4. entropy of image (continuous) \n",
    "5. class (integer) \n",
    "\n",
    "## Reading in the Data Set\n",
    "\n",
    "We've already downloaded the dataset, its in the DATA folder. So let's open it up. "
   ]
  },
  {
   "cell_type": "code",
   "execution_count": 2,
   "metadata": {},
   "outputs": [],
   "source": [
    "from numpy import genfromtxt\n",
    "data = genfromtxt('../DATA/bank_note_data.txt', delimiter=',')"
   ]
  },
  {
   "cell_type": "code",
   "execution_count": 3,
   "metadata": {},
   "outputs": [
    {
     "data": {
      "text/plain": [
       "array([[  3.6216 ,   8.6661 ,  -2.8073 ,  -0.44699,   0.     ],\n",
       "       [  4.5459 ,   8.1674 ,  -2.4586 ,  -1.4621 ,   0.     ],\n",
       "       [  3.866  ,  -2.6383 ,   1.9242 ,   0.10645,   0.     ],\n",
       "       ...,\n",
       "       [ -3.7503 , -13.4586 ,  17.5932 ,  -2.7771 ,   1.     ],\n",
       "       [ -3.5637 ,  -8.3827 ,  12.393  ,  -1.2823 ,   1.     ],\n",
       "       [ -2.5419 ,  -0.65804,   2.6842 ,   1.1952 ,   1.     ]])"
      ]
     },
     "execution_count": 3,
     "metadata": {},
     "output_type": "execute_result"
    }
   ],
   "source": [
    "data"
   ]
  },
  {
   "cell_type": "code",
   "execution_count": 4,
   "metadata": {},
   "outputs": [],
   "source": [
    "labels = data[:,4]"
   ]
  },
  {
   "cell_type": "code",
   "execution_count": 5,
   "metadata": {},
   "outputs": [
    {
     "data": {
      "text/plain": [
       "array([0., 0., 0., ..., 1., 1., 1.])"
      ]
     },
     "execution_count": 5,
     "metadata": {},
     "output_type": "execute_result"
    }
   ],
   "source": [
    "labels"
   ]
  },
  {
   "cell_type": "code",
   "execution_count": 6,
   "metadata": {},
   "outputs": [],
   "source": [
    "features = data[:,0:4]"
   ]
  },
  {
   "cell_type": "code",
   "execution_count": 7,
   "metadata": {},
   "outputs": [
    {
     "data": {
      "text/plain": [
       "array([[  3.6216 ,   8.6661 ,  -2.8073 ,  -0.44699],\n",
       "       [  4.5459 ,   8.1674 ,  -2.4586 ,  -1.4621 ],\n",
       "       [  3.866  ,  -2.6383 ,   1.9242 ,   0.10645],\n",
       "       ...,\n",
       "       [ -3.7503 , -13.4586 ,  17.5932 ,  -2.7771 ],\n",
       "       [ -3.5637 ,  -8.3827 ,  12.393  ,  -1.2823 ],\n",
       "       [ -2.5419 ,  -0.65804,   2.6842 ,   1.1952 ]])"
      ]
     },
     "execution_count": 7,
     "metadata": {},
     "output_type": "execute_result"
    }
   ],
   "source": [
    "features"
   ]
  },
  {
   "cell_type": "code",
   "execution_count": 8,
   "metadata": {},
   "outputs": [],
   "source": [
    "X = features\n",
    "y = labels"
   ]
  },
  {
   "cell_type": "markdown",
   "metadata": {},
   "source": [
    "## Split the Data into Training and Test\n",
    "\n",
    "Its time to split the data into a train/test set. Keep in mind, sometimes people like to split 3 ways, train/test/validation. We'll keep things simple for now. **Remember to check out the video explanation as to why we split and what all the parameters mean!**"
   ]
  },
  {
   "cell_type": "code",
   "execution_count": 9,
   "metadata": {},
   "outputs": [],
   "source": [
    "from sklearn.model_selection import train_test_split"
   ]
  },
  {
   "cell_type": "code",
   "execution_count": 10,
   "metadata": {},
   "outputs": [],
   "source": [
    "X_train, X_test, y_train, y_test = train_test_split(X, y, test_size=0.33, random_state=42)"
   ]
  },
  {
   "cell_type": "code",
   "execution_count": 11,
   "metadata": {},
   "outputs": [
    {
     "data": {
      "text/plain": [
       "array([[-0.8734  , -0.033118, -0.20165 ,  0.55774 ],\n",
       "       [ 2.0177  ,  1.7982  , -2.9581  ,  0.2099  ],\n",
       "       [-0.36038 ,  4.1158  ,  3.1143  , -0.37199 ],\n",
       "       ...,\n",
       "       [-7.0364  ,  9.2931  ,  0.16594 , -4.5396  ],\n",
       "       [-3.4605  ,  2.6901  ,  0.16165 , -1.0224  ],\n",
       "       [-3.3582  , -7.2404  , 11.4419  , -0.57113 ]])"
      ]
     },
     "execution_count": 11,
     "metadata": {},
     "output_type": "execute_result"
    }
   ],
   "source": [
    "X_train"
   ]
  },
  {
   "cell_type": "code",
   "execution_count": 12,
   "metadata": {},
   "outputs": [
    {
     "data": {
      "text/plain": [
       "array([[ 1.5691  ,  6.3465  , -0.1828  , -2.4099  ],\n",
       "       [-0.27802 ,  8.1881  , -3.1338  , -2.5276  ],\n",
       "       [ 0.051979,  7.0521  , -2.0541  , -3.1508  ],\n",
       "       ...,\n",
       "       [ 3.5127  ,  2.9073  ,  1.0579  ,  0.40774 ],\n",
       "       [ 5.504   , 10.3671  , -4.413   , -4.0211  ],\n",
       "       [-0.2062  ,  9.2207  , -3.7044  , -6.8103  ]])"
      ]
     },
     "execution_count": 12,
     "metadata": {},
     "output_type": "execute_result"
    }
   ],
   "source": [
    "X_test"
   ]
  },
  {
   "cell_type": "code",
   "execution_count": 13,
   "metadata": {},
   "outputs": [
    {
     "data": {
      "text/plain": [
       "array([1., 1., 0., 1., 0., 0., 1., 0., 0., 1., 0., 0., 0., 1., 1., 1., 0.,\n",
       "       1., 1., 1., 0., 1., 1., 1., 0., 1., 0., 0., 1., 0., 0., 0., 1., 0.,\n",
       "       1., 0., 0., 0., 0., 1., 1., 0., 0., 1., 0., 0., 1., 1., 1., 0., 0.,\n",
       "       0., 1., 1., 1., 1., 1., 1., 1., 0., 0., 0., 0., 0., 0., 1., 0., 1.,\n",
       "       0., 0., 0., 0., 1., 1., 0., 1., 1., 0., 1., 0., 1., 1., 1., 1., 1.,\n",
       "       1., 1., 1., 1., 1., 1., 0., 1., 0., 0., 0., 0., 1., 1., 1., 0., 0.,\n",
       "       0., 1., 0., 1., 1., 1., 1., 0., 0., 0., 0., 0., 0., 0., 0., 0., 0.,\n",
       "       0., 0., 0., 1., 1., 0., 1., 0., 1., 0., 0., 0., 0., 0., 1., 1., 0.,\n",
       "       0., 0., 0., 0., 0., 0., 0., 0., 0., 0., 1., 1., 0., 1., 0., 0., 1.,\n",
       "       1., 0., 1., 0., 0., 1., 0., 1., 1., 0., 0., 0., 0., 0., 0., 1., 0.,\n",
       "       0., 0., 1., 1., 0., 1., 1., 1., 1., 1., 0., 1., 1., 0., 0., 1., 1.,\n",
       "       0., 1., 1., 0., 1., 1., 0., 0., 0., 0., 1., 0., 0., 1., 0., 1., 0.,\n",
       "       0., 1., 0., 0., 1., 1., 0., 0., 1., 1., 0., 1., 1., 1., 0., 0., 0.,\n",
       "       1., 0., 0., 1., 0., 0., 0., 1., 0., 0., 1., 0., 1., 0., 0., 0., 0.,\n",
       "       0., 1., 1., 0., 0., 1., 0., 0., 1., 0., 0., 1., 0., 1., 1., 1., 0.,\n",
       "       1., 0., 0., 0., 1., 0., 0., 1., 1., 1., 0., 1., 0., 1., 1., 0., 0.,\n",
       "       1., 1., 1., 1., 0., 0., 1., 0., 1., 0., 1., 0., 0., 0., 1., 0., 1.,\n",
       "       1., 0., 0., 1., 0., 1., 0., 1., 0., 1., 0., 0., 0., 0., 1., 0., 1.,\n",
       "       1., 1., 1., 1., 1., 0., 0., 0., 1., 0., 0., 0., 1., 0., 1., 0., 0.,\n",
       "       0., 0., 0., 1., 0., 1., 1., 0., 1., 0., 0., 1., 0., 0., 0., 0., 0.,\n",
       "       0., 1., 1., 1., 0., 1., 0., 0., 0., 1., 1., 0., 0., 1., 0., 1., 0.,\n",
       "       0., 0., 0., 0., 0., 1., 1., 1., 0., 0., 0., 0., 0., 0., 1., 1., 1.,\n",
       "       0., 0., 0., 1., 1., 1., 1., 0., 0., 1., 0., 0., 0., 1., 0., 0., 1.,\n",
       "       0., 0., 0., 1., 0., 0., 1., 1., 0., 1., 0., 0., 0., 1., 1., 0., 1.,\n",
       "       0., 0., 1., 0., 0., 1., 0., 1., 1., 0., 1., 0., 0., 0., 0., 1., 0.,\n",
       "       0., 0., 1., 0., 0., 0., 0., 0., 1., 1., 0., 1., 0., 0., 0., 0., 0.,\n",
       "       0., 1., 0., 1., 1., 1., 0., 0., 1., 1., 1., 1., 0., 0., 1., 0., 0.,\n",
       "       1., 0., 0., 0., 1., 0., 1., 0., 0., 0., 1., 0., 0., 1., 1., 1., 1.,\n",
       "       0., 1., 1., 0., 1., 0., 1., 0., 0., 0., 1., 0., 1., 1., 1., 1., 0.,\n",
       "       0., 1., 0., 1., 0., 0., 0., 0., 0., 0., 1., 1., 0., 1., 0., 0., 1.,\n",
       "       0., 1., 0., 1., 1., 1., 0., 1., 0., 1., 1., 0., 0., 0., 0., 1., 0.,\n",
       "       0., 1., 1., 1., 1., 0., 0., 0., 0., 0., 1., 1., 0., 0., 1., 0., 0.,\n",
       "       0., 1., 1., 0., 0., 0., 1., 1., 1., 1., 0., 1., 1., 0., 0., 0., 1.,\n",
       "       1., 0., 0., 1., 1., 0., 0., 1., 0., 0., 0., 0., 0., 0., 1., 1., 1.,\n",
       "       0., 1., 1., 1., 1., 0., 1., 0., 1., 1., 0., 1., 1., 1., 0., 1., 0.,\n",
       "       0., 0., 0., 1., 0., 1., 0., 1., 0., 0., 0., 0., 0., 0., 0., 1., 1.,\n",
       "       1., 0., 1., 0., 0., 1., 0., 1., 0., 0., 1., 1., 0., 0., 0., 1., 0.,\n",
       "       0., 1., 1., 1., 0., 1., 1., 0., 0., 0., 0., 1., 1., 1., 0., 1., 0.,\n",
       "       0., 0., 1., 0., 0., 1., 1., 1., 1., 1., 0., 1., 0., 0., 0., 1., 0.,\n",
       "       0., 0., 1., 0., 1., 1., 0., 1., 0., 1., 1., 1., 1., 0., 1., 1., 1.,\n",
       "       1., 1., 0., 1., 0., 1., 1., 0., 0., 1., 0., 0., 0., 0., 1., 1., 0.,\n",
       "       1., 1., 0., 0., 1., 1., 1., 1., 0., 0., 1., 0., 0., 0., 0., 1., 1.,\n",
       "       0., 1., 0., 1., 0., 0., 1., 1., 0., 0., 0., 1., 0., 0., 0., 1., 0.,\n",
       "       1., 0., 0., 1., 0., 0., 0., 1., 0., 1., 1., 1., 0., 1., 0., 0., 0.,\n",
       "       0., 0., 1., 1., 1., 1., 0., 1., 0., 1., 0., 0., 0., 1., 0., 0., 1.,\n",
       "       1., 1., 0., 1., 0., 0., 0., 1., 1., 0., 1., 0., 1., 0., 1., 0., 0.,\n",
       "       1., 0., 0., 1., 1., 1., 0., 0., 1., 1., 0., 1., 1., 1., 1., 0., 0.,\n",
       "       1., 0., 0., 0., 1., 0., 0., 1., 1., 1., 1., 0., 0., 1., 0., 1., 0.,\n",
       "       0., 0., 0., 0., 0., 1., 1., 0., 1., 0., 0., 0., 1., 1., 0., 0., 0.,\n",
       "       1., 0., 1., 1., 1., 0., 0., 0., 1., 1., 0., 1., 1., 0., 1., 0., 0.,\n",
       "       0., 0., 0., 1., 0., 1., 1., 1., 0., 0., 1., 0., 1., 0., 1., 0., 1.,\n",
       "       0., 0., 0., 0., 0., 1., 0., 1., 0., 0., 1., 1., 1., 0., 1., 0., 1.,\n",
       "       0., 1., 0., 0., 1., 0., 1., 0., 0., 0., 1., 0., 1., 0., 1., 1., 0.,\n",
       "       1., 0., 1., 1., 0., 1., 1., 0., 0., 1., 0., 0., 1., 1., 1., 1., 1.,\n",
       "       1.])"
      ]
     },
     "execution_count": 13,
     "metadata": {},
     "output_type": "execute_result"
    }
   ],
   "source": [
    "y_train"
   ]
  },
  {
   "cell_type": "code",
   "execution_count": 14,
   "metadata": {},
   "outputs": [
    {
     "data": {
      "text/plain": [
       "array([0., 0., 0., 0., 0., 0., 0., 0., 0., 0., 1., 1., 0., 1., 0., 1., 1.,\n",
       "       1., 1., 1., 0., 0., 1., 0., 1., 0., 0., 1., 0., 0., 1., 0., 0., 1.,\n",
       "       1., 0., 1., 1., 1., 0., 0., 1., 1., 0., 1., 1., 1., 0., 0., 1., 0.,\n",
       "       0., 0., 0., 0., 1., 0., 0., 0., 0., 1., 0., 1., 0., 0., 0., 0., 0.,\n",
       "       0., 1., 1., 0., 1., 0., 1., 0., 0., 1., 1., 1., 1., 0., 1., 0., 0.,\n",
       "       0., 0., 1., 1., 0., 0., 0., 1., 1., 0., 1., 1., 0., 0., 0., 1., 0.,\n",
       "       0., 0., 1., 0., 0., 1., 1., 1., 1., 1., 0., 1., 1., 1., 0., 1., 1.,\n",
       "       0., 1., 0., 1., 0., 1., 0., 1., 1., 0., 1., 1., 0., 0., 0., 0., 0.,\n",
       "       1., 0., 0., 0., 0., 0., 1., 0., 1., 1., 1., 1., 1., 0., 1., 1., 1.,\n",
       "       0., 1., 0., 1., 0., 0., 0., 1., 1., 1., 1., 1., 0., 1., 0., 0., 0.,\n",
       "       0., 0., 0., 1., 0., 0., 1., 1., 0., 0., 0., 0., 1., 0., 1., 0., 1.,\n",
       "       1., 0., 0., 1., 0., 0., 1., 1., 1., 1., 0., 0., 1., 1., 1., 0., 0.,\n",
       "       1., 1., 1., 1., 0., 0., 0., 0., 0., 0., 0., 0., 0., 0., 1., 1., 1.,\n",
       "       1., 1., 0., 1., 0., 0., 1., 1., 1., 1., 0., 1., 0., 1., 1., 1., 1.,\n",
       "       0., 0., 0., 1., 0., 1., 1., 1., 0., 0., 0., 0., 0., 0., 1., 0., 1.,\n",
       "       0., 0., 0., 1., 1., 0., 0., 0., 1., 1., 0., 1., 0., 1., 1., 1., 1.,\n",
       "       0., 0., 0., 0., 0., 1., 0., 0., 1., 0., 1., 0., 0., 1., 0., 0., 0.,\n",
       "       0., 0., 1., 1., 0., 1., 0., 1., 1., 0., 0., 0., 0., 0., 0., 0., 1.,\n",
       "       1., 1., 0., 0., 1., 1., 0., 0., 0., 0., 0., 0., 1., 0., 1., 1., 1.,\n",
       "       0., 0., 0., 0., 1., 0., 0., 0., 0., 0., 0., 0., 1., 0., 1., 1., 1.,\n",
       "       1., 0., 1., 1., 0., 1., 1., 0., 0., 1., 0., 0., 1., 0., 1., 0., 1.,\n",
       "       1., 0., 0., 1., 0., 0., 0., 0., 0., 0., 1., 0., 0., 1., 0., 0., 0.,\n",
       "       0., 1., 1., 0., 1., 0., 1., 1., 1., 0., 1., 1., 0., 1., 1., 0., 1.,\n",
       "       0., 0., 0., 1., 1., 1., 0., 0., 0., 0., 1., 0., 0., 1., 1., 1., 1.,\n",
       "       0., 1., 0., 0., 1., 1., 0., 1., 0., 1., 0., 0., 0., 1., 1., 0., 0.,\n",
       "       0., 1., 0., 0., 1., 0., 0., 0., 0., 1., 0., 1., 0., 0., 1., 0., 0.,\n",
       "       0., 0., 0., 0., 1., 1., 0., 0., 0., 0., 0.])"
      ]
     },
     "execution_count": 14,
     "metadata": {},
     "output_type": "execute_result"
    }
   ],
   "source": [
    "y_test"
   ]
  },
  {
   "cell_type": "markdown",
   "metadata": {},
   "source": [
    "## Standardizing the Data\n",
    "\n",
    "Usually when using Neural Networks, you will get better performance when you standardize the data. Standardization just means normalizing the values to all fit between a certain range, like 0-1, or -1 to 1.\n",
    "\n",
    "The scikit learn library also provides a nice function for this.\n",
    "\n",
    "http://scikit-learn.org/stable/modules/generated/sklearn.preprocessing.MinMaxScaler.html"
   ]
  },
  {
   "cell_type": "code",
   "execution_count": 15,
   "metadata": {},
   "outputs": [],
   "source": [
    "from sklearn.preprocessing import MinMaxScaler"
   ]
  },
  {
   "cell_type": "code",
   "execution_count": 16,
   "metadata": {},
   "outputs": [],
   "source": [
    "scaler_object = MinMaxScaler()"
   ]
  },
  {
   "cell_type": "code",
   "execution_count": 17,
   "metadata": {},
   "outputs": [
    {
     "data": {
      "text/plain": [
       "MinMaxScaler()"
      ]
     },
     "execution_count": 17,
     "metadata": {},
     "output_type": "execute_result"
    }
   ],
   "source": [
    "scaler_object.fit(X_train)"
   ]
  },
  {
   "cell_type": "code",
   "execution_count": 18,
   "metadata": {},
   "outputs": [],
   "source": [
    "scaled_X_train = scaler_object.transform(X_train)"
   ]
  },
  {
   "cell_type": "code",
   "execution_count": 19,
   "metadata": {},
   "outputs": [],
   "source": [
    "scaled_X_test = scaler_object.transform(X_test)"
   ]
  },
  {
   "cell_type": "markdown",
   "metadata": {},
   "source": [
    "Ok, now we have the data scaled!"
   ]
  },
  {
   "cell_type": "code",
   "execution_count": 20,
   "metadata": {},
   "outputs": [
    {
     "data": {
      "text/plain": [
       "17.9274"
      ]
     },
     "execution_count": 20,
     "metadata": {},
     "output_type": "execute_result"
    }
   ],
   "source": [
    "X_train.max()"
   ]
  },
  {
   "cell_type": "code",
   "execution_count": 21,
   "metadata": {},
   "outputs": [
    {
     "data": {
      "text/plain": [
       "1.0000000000000002"
      ]
     },
     "execution_count": 21,
     "metadata": {},
     "output_type": "execute_result"
    }
   ],
   "source": [
    "scaled_X_train.max()"
   ]
  },
  {
   "cell_type": "code",
   "execution_count": 22,
   "metadata": {},
   "outputs": [
    {
     "data": {
      "text/plain": [
       "array([[-0.8734  , -0.033118, -0.20165 ,  0.55774 ],\n",
       "       [ 2.0177  ,  1.7982  , -2.9581  ,  0.2099  ],\n",
       "       [-0.36038 ,  4.1158  ,  3.1143  , -0.37199 ],\n",
       "       ...,\n",
       "       [-7.0364  ,  9.2931  ,  0.16594 , -4.5396  ],\n",
       "       [-3.4605  ,  2.6901  ,  0.16165 , -1.0224  ],\n",
       "       [-3.3582  , -7.2404  , 11.4419  , -0.57113 ]])"
      ]
     },
     "execution_count": 22,
     "metadata": {},
     "output_type": "execute_result"
    }
   ],
   "source": [
    "X_train"
   ]
  },
  {
   "cell_type": "code",
   "execution_count": 23,
   "metadata": {},
   "outputs": [
    {
     "data": {
      "text/plain": [
       "array([[4.44850688e-01, 5.14130449e-01, 2.18194638e-01, 8.50172258e-01],\n",
       "       [6.53339968e-01, 5.82655745e-01, 9.93242398e-02, 8.17696322e-01],\n",
       "       [4.81846700e-01, 6.69377018e-01, 3.61193167e-01, 7.63368407e-01],\n",
       "       ...,\n",
       "       [4.11050776e-04, 8.63104170e-01, 2.34046756e-01, 3.74261253e-01],\n",
       "       [2.58284115e-01, 6.16029366e-01, 2.33861752e-01, 7.02643151e-01],\n",
       "       [2.65661395e-01, 2.44444278e-01, 7.20316361e-01, 7.44775785e-01]])"
      ]
     },
     "execution_count": 23,
     "metadata": {},
     "output_type": "execute_result"
    }
   ],
   "source": [
    "scaled_X_train"
   ]
  },
  {
   "cell_type": "markdown",
   "metadata": {},
   "source": [
    "## Building the Network with Keras\n",
    "\n",
    "Let's build a simple neural network!"
   ]
  },
  {
   "cell_type": "code",
   "execution_count": 24,
   "metadata": {},
   "outputs": [],
   "source": [
    "from keras.models import Sequential\n",
    "from keras.layers import Dense"
   ]
  },
  {
   "cell_type": "code",
   "execution_count": 25,
   "metadata": {},
   "outputs": [],
   "source": [
    "# Creates model\n",
    "model = Sequential()\n",
    "# 8 Neurons, expects input of 4 features. \n",
    "# Play around with the number of neurons!!\n",
    "model.add(Dense(4, input_dim=4, activation='relu'))\n",
    "# Add another Densely Connected layer (every neuron connected to every neuron in the next layer)\n",
    "model.add(Dense(8, activation='relu'))\n",
    "# Last layer simple sigmoid function to output 0 or 1 (our label)\n",
    "model.add(Dense(1, activation='sigmoid'))"
   ]
  },
  {
   "cell_type": "markdown",
   "metadata": {},
   "source": [
    "### Compile Model"
   ]
  },
  {
   "cell_type": "code",
   "execution_count": 26,
   "metadata": {},
   "outputs": [],
   "source": [
    "model.compile(loss='binary_crossentropy', optimizer='adam', metrics=['accuracy'])"
   ]
  },
  {
   "cell_type": "markdown",
   "metadata": {},
   "source": [
    "## Fit (Train) the Model"
   ]
  },
  {
   "cell_type": "code",
   "execution_count": 27,
   "metadata": {},
   "outputs": [
    {
     "name": "stdout",
     "output_type": "stream",
     "text": [
      "Epoch 1/50\n",
      "29/29 - 1s - loss: 0.6772 - accuracy: 0.6529 - 668ms/epoch - 23ms/step\n",
      "Epoch 2/50\n",
      "29/29 - 0s - loss: 0.6593 - accuracy: 0.6921 - 38ms/epoch - 1ms/step\n",
      "Epoch 3/50\n",
      "29/29 - 0s - loss: 0.6406 - accuracy: 0.7399 - 40ms/epoch - 1ms/step\n",
      "Epoch 4/50\n",
      "29/29 - 0s - loss: 0.6201 - accuracy: 0.7617 - 37ms/epoch - 1ms/step\n",
      "Epoch 5/50\n",
      "29/29 - 0s - loss: 0.5997 - accuracy: 0.7835 - 37ms/epoch - 1ms/step\n",
      "Epoch 6/50\n",
      "29/29 - 0s - loss: 0.5821 - accuracy: 0.7856 - 33ms/epoch - 1ms/step\n",
      "Epoch 7/50\n",
      "29/29 - 0s - loss: 0.5650 - accuracy: 0.7889 - 34ms/epoch - 1ms/step\n",
      "Epoch 8/50\n",
      "29/29 - 0s - loss: 0.5466 - accuracy: 0.7998 - 32ms/epoch - 1ms/step\n",
      "Epoch 9/50\n",
      "29/29 - 0s - loss: 0.5282 - accuracy: 0.8030 - 35ms/epoch - 1ms/step\n",
      "Epoch 10/50\n",
      "29/29 - 0s - loss: 0.5092 - accuracy: 0.8063 - 34ms/epoch - 1ms/step\n",
      "Epoch 11/50\n",
      "29/29 - 0s - loss: 0.4895 - accuracy: 0.8118 - 34ms/epoch - 1ms/step\n",
      "Epoch 12/50\n",
      "29/29 - 0s - loss: 0.4708 - accuracy: 0.8194 - 35ms/epoch - 1ms/step\n",
      "Epoch 13/50\n",
      "29/29 - 0s - loss: 0.4510 - accuracy: 0.8400 - 34ms/epoch - 1ms/step\n",
      "Epoch 14/50\n",
      "29/29 - 0s - loss: 0.4323 - accuracy: 0.8477 - 33ms/epoch - 1ms/step\n",
      "Epoch 15/50\n",
      "29/29 - 0s - loss: 0.4142 - accuracy: 0.8640 - 34ms/epoch - 1ms/step\n",
      "Epoch 16/50\n",
      "29/29 - 0s - loss: 0.3977 - accuracy: 0.8694 - 35ms/epoch - 1ms/step\n",
      "Epoch 17/50\n",
      "29/29 - 0s - loss: 0.3799 - accuracy: 0.8792 - 37ms/epoch - 1ms/step\n",
      "Epoch 18/50\n",
      "29/29 - 0s - loss: 0.3632 - accuracy: 0.8901 - 37ms/epoch - 1ms/step\n",
      "Epoch 19/50\n",
      "29/29 - 0s - loss: 0.3477 - accuracy: 0.8955 - 40ms/epoch - 1ms/step\n",
      "Epoch 20/50\n",
      "29/29 - 0s - loss: 0.3325 - accuracy: 0.8999 - 33ms/epoch - 1ms/step\n",
      "Epoch 21/50\n",
      "29/29 - 0s - loss: 0.3187 - accuracy: 0.9032 - 39ms/epoch - 1ms/step\n",
      "Epoch 22/50\n",
      "29/29 - 0s - loss: 0.3047 - accuracy: 0.9053 - 43ms/epoch - 1ms/step\n",
      "Epoch 23/50\n",
      "29/29 - 0s - loss: 0.2916 - accuracy: 0.9064 - 40ms/epoch - 1ms/step\n",
      "Epoch 24/50\n",
      "29/29 - 0s - loss: 0.2789 - accuracy: 0.9173 - 39ms/epoch - 1ms/step\n",
      "Epoch 25/50\n",
      "29/29 - 0s - loss: 0.2668 - accuracy: 0.9293 - 41ms/epoch - 1ms/step\n",
      "Epoch 26/50\n",
      "29/29 - 0s - loss: 0.2551 - accuracy: 0.9314 - 41ms/epoch - 1ms/step\n",
      "Epoch 27/50\n",
      "29/29 - 0s - loss: 0.2443 - accuracy: 0.9358 - 39ms/epoch - 1ms/step\n",
      "Epoch 28/50\n",
      "29/29 - 0s - loss: 0.2342 - accuracy: 0.9402 - 42ms/epoch - 1ms/step\n",
      "Epoch 29/50\n",
      "29/29 - 0s - loss: 0.2250 - accuracy: 0.9402 - 40ms/epoch - 1ms/step\n",
      "Epoch 30/50\n",
      "29/29 - 0s - loss: 0.2157 - accuracy: 0.9434 - 39ms/epoch - 1ms/step\n",
      "Epoch 31/50\n",
      "29/29 - 0s - loss: 0.2075 - accuracy: 0.9423 - 32ms/epoch - 1ms/step\n",
      "Epoch 32/50\n",
      "29/29 - 0s - loss: 0.2002 - accuracy: 0.9456 - 32ms/epoch - 1ms/step\n",
      "Epoch 33/50\n",
      "29/29 - 0s - loss: 0.1938 - accuracy: 0.9489 - 33ms/epoch - 1ms/step\n",
      "Epoch 34/50\n",
      "29/29 - 0s - loss: 0.1867 - accuracy: 0.9489 - 33ms/epoch - 1ms/step\n",
      "Epoch 35/50\n",
      "29/29 - 0s - loss: 0.1786 - accuracy: 0.9445 - 30ms/epoch - 1ms/step\n",
      "Epoch 36/50\n",
      "29/29 - 0s - loss: 0.1729 - accuracy: 0.9499 - 31ms/epoch - 1ms/step\n",
      "Epoch 37/50\n",
      "29/29 - 0s - loss: 0.1676 - accuracy: 0.9478 - 32ms/epoch - 1ms/step\n",
      "Epoch 38/50\n",
      "29/29 - 0s - loss: 0.1624 - accuracy: 0.9510 - 36ms/epoch - 1ms/step\n",
      "Epoch 39/50\n",
      "29/29 - 0s - loss: 0.1571 - accuracy: 0.9499 - 36ms/epoch - 1ms/step\n",
      "Epoch 40/50\n",
      "29/29 - 0s - loss: 0.1541 - accuracy: 0.9456 - 33ms/epoch - 1ms/step\n",
      "Epoch 41/50\n",
      "29/29 - 0s - loss: 0.1487 - accuracy: 0.9489 - 34ms/epoch - 1ms/step\n",
      "Epoch 42/50\n",
      "29/29 - 0s - loss: 0.1436 - accuracy: 0.9510 - 35ms/epoch - 1ms/step\n",
      "Epoch 43/50\n",
      "29/29 - 0s - loss: 0.1397 - accuracy: 0.9554 - 37ms/epoch - 1ms/step\n",
      "Epoch 44/50\n",
      "29/29 - 0s - loss: 0.1353 - accuracy: 0.9521 - 38ms/epoch - 1ms/step\n",
      "Epoch 45/50\n",
      "29/29 - 0s - loss: 0.1328 - accuracy: 0.9543 - 39ms/epoch - 1ms/step\n",
      "Epoch 46/50\n",
      "29/29 - 0s - loss: 0.1287 - accuracy: 0.9543 - 37ms/epoch - 1ms/step\n",
      "Epoch 47/50\n",
      "29/29 - 0s - loss: 0.1248 - accuracy: 0.9597 - 37ms/epoch - 1ms/step\n",
      "Epoch 48/50\n",
      "29/29 - 0s - loss: 0.1220 - accuracy: 0.9587 - 42ms/epoch - 1ms/step\n",
      "Epoch 49/50\n",
      "29/29 - 0s - loss: 0.1186 - accuracy: 0.9619 - 40ms/epoch - 1ms/step\n",
      "Epoch 50/50\n",
      "29/29 - 0s - loss: 0.1156 - accuracy: 0.9543 - 41ms/epoch - 1ms/step\n"
     ]
    },
    {
     "data": {
      "text/plain": [
       "<keras.callbacks.History at 0x2a98e6f0340>"
      ]
     },
     "execution_count": 27,
     "metadata": {},
     "output_type": "execute_result"
    }
   ],
   "source": [
    "# Play around with number of epochs as well!\n",
    "model.fit(scaled_X_train,y_train,epochs=50, verbose=2)"
   ]
  },
  {
   "cell_type": "markdown",
   "metadata": {},
   "source": [
    "## Predicting New Unseen Data\n",
    "\n",
    "Let's see how we did by predicting on **new data**. Remember, our model has **never** seen the test data that we scaled previously! This process is the exact same process you would use on totally brand new data. For example , a brand new bank note that you just analyzed ."
   ]
  },
  {
   "cell_type": "code",
   "execution_count": 28,
   "metadata": {},
   "outputs": [
    {
     "data": {
      "text/plain": [
       "array([[0.62098955, 0.75284662, 0.21900753, 0.5730998 ],\n",
       "       [0.48778602, 0.82175665, 0.09174727, 0.56211079],\n",
       "       [0.51158363, 0.77924916, 0.13830875, 0.50392598],\n",
       "       ...,\n",
       "       [0.76115065, 0.62415668, 0.27251204, 0.83616757],\n",
       "       [0.9047516 , 0.90329171, 0.03658247, 0.42267079],\n",
       "       [0.49296526, 0.86039507, 0.06714046, 0.1622583 ]])"
      ]
     },
     "execution_count": 28,
     "metadata": {},
     "output_type": "execute_result"
    }
   ],
   "source": [
    "scaled_X_test"
   ]
  },
  {
   "cell_type": "code",
   "execution_count": 29,
   "metadata": {},
   "outputs": [],
   "source": [
    "# Spits out probabilities by default.\n",
    "# model.predict(scaled_X_test)"
   ]
  },
  {
   "cell_type": "code",
   "execution_count": 31,
   "metadata": {},
   "outputs": [
    {
     "data": {
      "text/plain": [
       "array([[0.02274817],\n",
       "       [0.48788276],\n",
       "       [0.24124226],\n",
       "       [0.0158543 ],\n",
       "       [0.0249283 ],\n",
       "       [0.01132286],\n",
       "       [0.11437622],\n",
       "       [0.00958541],\n",
       "       [0.02048314],\n",
       "       [0.06244904],\n",
       "       [0.6886209 ],\n",
       "       [0.9569805 ],\n",
       "       [0.06822863],\n",
       "       [0.8754215 ],\n",
       "       [0.4558255 ],\n",
       "       [0.35796422],\n",
       "       [0.9638361 ],\n",
       "       [0.9690555 ],\n",
       "       [0.8532655 ],\n",
       "       [0.9003254 ],\n",
       "       [0.0136897 ],\n",
       "       [0.03362149],\n",
       "       [0.9274993 ],\n",
       "       [0.01146513],\n",
       "       [0.9979079 ],\n",
       "       [0.01222217],\n",
       "       [0.00794137],\n",
       "       [0.92376256],\n",
       "       [0.00406995],\n",
       "       [0.00584948],\n",
       "       [0.8787434 ],\n",
       "       [0.05172604],\n",
       "       [0.09661943],\n",
       "       [0.99828184],\n",
       "       [0.99424803],\n",
       "       [0.00903094],\n",
       "       [0.6521008 ],\n",
       "       [0.91897976],\n",
       "       [0.96340203],\n",
       "       [0.04124644],\n",
       "       [0.01676625],\n",
       "       [0.8663008 ],\n",
       "       [0.918592  ],\n",
       "       [0.01537749],\n",
       "       [0.9956063 ],\n",
       "       [0.89728284],\n",
       "       [0.9853362 ],\n",
       "       [0.01663977],\n",
       "       [0.014034  ],\n",
       "       [0.43290707],\n",
       "       [0.01963195],\n",
       "       [0.00874239],\n",
       "       [0.03253251],\n",
       "       [0.01059744],\n",
       "       [0.24999836],\n",
       "       [0.88493013],\n",
       "       [0.0291537 ],\n",
       "       [0.00800669],\n",
       "       [0.01245922],\n",
       "       [0.01055965],\n",
       "       [0.97730803],\n",
       "       [0.02398217],\n",
       "       [0.34025162],\n",
       "       [0.00655159],\n",
       "       [0.02458969],\n",
       "       [0.00894716],\n",
       "       [0.01176691],\n",
       "       [0.0619916 ],\n",
       "       [0.45044154],\n",
       "       [0.3085571 ],\n",
       "       [0.86740696],\n",
       "       [0.01440009],\n",
       "       [0.80911326],\n",
       "       [0.00643149],\n",
       "       [0.8893434 ],\n",
       "       [0.46878514],\n",
       "       [0.01661855],\n",
       "       [0.9585835 ],\n",
       "       [0.97698426],\n",
       "       [0.82666165],\n",
       "       [0.78685355],\n",
       "       [0.20463797],\n",
       "       [0.52222735],\n",
       "       [0.01254672],\n",
       "       [0.0537214 ],\n",
       "       [0.00611332],\n",
       "       [0.02292448],\n",
       "       [0.99575233],\n",
       "       [0.1917732 ],\n",
       "       [0.05104411],\n",
       "       [0.0128659 ],\n",
       "       [0.01409191],\n",
       "       [0.8373376 ],\n",
       "       [0.91987514],\n",
       "       [0.01430988],\n",
       "       [0.9566798 ],\n",
       "       [0.9974456 ],\n",
       "       [0.07811761],\n",
       "       [0.01395097],\n",
       "       [0.09075767],\n",
       "       [0.95416915],\n",
       "       [0.01158813],\n",
       "       [0.12626603],\n",
       "       [0.04364333],\n",
       "       [0.99860597],\n",
       "       [0.00891203],\n",
       "       [0.03182349],\n",
       "       [0.48875988],\n",
       "       [0.90929747],\n",
       "       [0.8605262 ],\n",
       "       [0.9711937 ],\n",
       "       [0.83450055],\n",
       "       [0.00835547],\n",
       "       [0.9921981 ],\n",
       "       [0.92027605],\n",
       "       [0.99259025],\n",
       "       [0.00671524],\n",
       "       [0.9902346 ],\n",
       "       [0.92404234],\n",
       "       [0.01121724],\n",
       "       [0.8696383 ],\n",
       "       [0.04395509],\n",
       "       [0.7638527 ],\n",
       "       [0.00916293],\n",
       "       [0.12939602],\n",
       "       [0.09189203],\n",
       "       [0.9858422 ],\n",
       "       [0.8880211 ],\n",
       "       [0.06365186],\n",
       "       [0.96554506],\n",
       "       [0.9971486 ],\n",
       "       [0.02210996],\n",
       "       [0.03962561],\n",
       "       [0.02026019],\n",
       "       [0.00760719],\n",
       "       [0.03440607],\n",
       "       [0.9572817 ],\n",
       "       [0.00614971],\n",
       "       [0.08568805],\n",
       "       [0.8694812 ],\n",
       "       [0.02120179],\n",
       "       [0.02133396],\n",
       "       [0.93848073],\n",
       "       [0.01037014],\n",
       "       [0.760795  ],\n",
       "       [0.18541116],\n",
       "       [0.3097688 ],\n",
       "       [0.5831548 ],\n",
       "       [0.69425493],\n",
       "       [0.01443157],\n",
       "       [0.6062916 ],\n",
       "       [0.9539609 ],\n",
       "       [0.90224975],\n",
       "       [0.00528803],\n",
       "       [0.85511625],\n",
       "       [0.00831321],\n",
       "       [0.89398867],\n",
       "       [0.07330778],\n",
       "       [0.05974159],\n",
       "       [0.04329127],\n",
       "       [0.9965397 ],\n",
       "       [0.98654664],\n",
       "       [0.99059165],\n",
       "       [0.98713756],\n",
       "       [0.89037895],\n",
       "       [0.01292011],\n",
       "       [0.9832539 ],\n",
       "       [0.01113001],\n",
       "       [0.00808921],\n",
       "       [0.01917779],\n",
       "       [0.24276063],\n",
       "       [0.01018772],\n",
       "       [0.04893228],\n",
       "       [0.98940325],\n",
       "       [0.01362225],\n",
       "       [0.01927847],\n",
       "       [0.9775066 ],\n",
       "       [0.997103  ],\n",
       "       [0.17491508],\n",
       "       [0.00879827],\n",
       "       [0.06360468],\n",
       "       [0.02539715],\n",
       "       [0.98968685],\n",
       "       [0.0230605 ],\n",
       "       [0.9708797 ],\n",
       "       [0.02278015],\n",
       "       [0.7765227 ],\n",
       "       [0.95979095],\n",
       "       [0.00928935],\n",
       "       [0.03104842],\n",
       "       [0.9746994 ],\n",
       "       [0.01204777],\n",
       "       [0.10858351],\n",
       "       [0.9884306 ],\n",
       "       [0.9670961 ],\n",
       "       [0.9572871 ],\n",
       "       [0.8874203 ],\n",
       "       [0.30354118],\n",
       "       [0.46410692],\n",
       "       [0.9866134 ],\n",
       "       [0.98423016],\n",
       "       [0.9861405 ],\n",
       "       [0.02151936],\n",
       "       [0.02567366],\n",
       "       [0.98166627],\n",
       "       [0.9862429 ],\n",
       "       [0.9859371 ],\n",
       "       [0.793488  ],\n",
       "       [0.19913593],\n",
       "       [0.01515469],\n",
       "       [0.5133108 ],\n",
       "       [0.00820389],\n",
       "       [0.08467066],\n",
       "       [0.13111871],\n",
       "       [0.00829038],\n",
       "       [0.00941595],\n",
       "       [0.46878514],\n",
       "       [0.05522078],\n",
       "       [0.99743915],\n",
       "       [0.92875534],\n",
       "       [0.93769443],\n",
       "       [0.96551013],\n",
       "       [0.96808624],\n",
       "       [0.01724786],\n",
       "       [0.92253673],\n",
       "       [0.00877061],\n",
       "       [0.05872574],\n",
       "       [0.9708104 ],\n",
       "       [0.8717201 ],\n",
       "       [0.94770783],\n",
       "       [0.9621085 ],\n",
       "       [0.04478669],\n",
       "       [0.83679485],\n",
       "       [0.00813094],\n",
       "       [0.86958337],\n",
       "       [0.9833926 ],\n",
       "       [0.92030144],\n",
       "       [0.9851216 ],\n",
       "       [0.04135844],\n",
       "       [0.01641056],\n",
       "       [0.20479691],\n",
       "       [0.8816587 ],\n",
       "       [0.01592815],\n",
       "       [0.98879135],\n",
       "       [0.9498302 ],\n",
       "       [0.98997766],\n",
       "       [0.02089134],\n",
       "       [0.01856545],\n",
       "       [0.01033041],\n",
       "       [0.01791391],\n",
       "       [0.005393  ],\n",
       "       [0.02991349],\n",
       "       [0.97222984],\n",
       "       [0.20970806],\n",
       "       [0.13434026],\n",
       "       [0.01910979],\n",
       "       [0.01238489],\n",
       "       [0.01126638],\n",
       "       [0.9820794 ],\n",
       "       [0.96183825],\n",
       "       [0.01397523],\n",
       "       [0.04445577],\n",
       "       [0.01210198],\n",
       "       [0.9789271 ],\n",
       "       [0.8807008 ],\n",
       "       [0.01550087],\n",
       "       [0.9503511 ],\n",
       "       [0.03057191],\n",
       "       [0.9972007 ],\n",
       "       [0.91959107],\n",
       "       [0.9800099 ],\n",
       "       [0.80233896],\n",
       "       [0.02684399],\n",
       "       [0.48787582],\n",
       "       [0.00919449],\n",
       "       [0.01168886],\n",
       "       [0.02420515],\n",
       "       [0.93988264],\n",
       "       [0.00911534],\n",
       "       [0.12956682],\n",
       "       [0.9946983 ],\n",
       "       [0.00647554],\n",
       "       [0.9876769 ],\n",
       "       [0.00885931],\n",
       "       [0.02096111],\n",
       "       [0.9327469 ],\n",
       "       [0.00863296],\n",
       "       [0.02776024],\n",
       "       [0.00934166],\n",
       "       [0.08855098],\n",
       "       [0.01556444],\n",
       "       [0.99745727],\n",
       "       [0.99733126],\n",
       "       [0.01587459],\n",
       "       [0.9896828 ],\n",
       "       [0.02441889],\n",
       "       [0.8999096 ],\n",
       "       [0.98108125],\n",
       "       [0.00606877],\n",
       "       [0.51330465],\n",
       "       [0.07159016],\n",
       "       [0.00980362],\n",
       "       [0.01124516],\n",
       "       [0.03145584],\n",
       "       [0.03456813],\n",
       "       [0.8746028 ],\n",
       "       [0.9908517 ],\n",
       "       [0.97725725],\n",
       "       [0.01389334],\n",
       "       [0.00612608],\n",
       "       [0.8835273 ],\n",
       "       [0.86757505],\n",
       "       [0.01093417],\n",
       "       [0.12570414],\n",
       "       [0.05747789],\n",
       "       [0.00644177],\n",
       "       [0.03911418],\n",
       "       [0.02909085],\n",
       "       [0.9884616 ],\n",
       "       [0.03125551],\n",
       "       [0.9826224 ],\n",
       "       [0.81894565],\n",
       "       [0.9802698 ],\n",
       "       [0.03607652],\n",
       "       [0.00866479],\n",
       "       [0.01193419],\n",
       "       [0.00461599],\n",
       "       [0.8509963 ],\n",
       "       [0.12794822],\n",
       "       [0.00509682],\n",
       "       [0.01637971],\n",
       "       [0.04017189],\n",
       "       [0.07974821],\n",
       "       [0.02262759],\n",
       "       [0.10787657],\n",
       "       [0.9894496 ],\n",
       "       [0.08643064],\n",
       "       [0.6919087 ],\n",
       "       [0.9822346 ],\n",
       "       [0.84804535],\n",
       "       [0.97025585],\n",
       "       [0.0120188 ],\n",
       "       [0.9195734 ],\n",
       "       [0.9811932 ],\n",
       "       [0.00834304],\n",
       "       [0.9628895 ],\n",
       "       [0.8798949 ],\n",
       "       [0.01361158],\n",
       "       [0.07174414],\n",
       "       [0.71464485],\n",
       "       [0.08107325],\n",
       "       [0.00906613],\n",
       "       [0.93171144],\n",
       "       [0.03229821],\n",
       "       [0.9720056 ],\n",
       "       [0.00864714],\n",
       "       [0.9280383 ],\n",
       "       [0.946386  ],\n",
       "       [0.00914723],\n",
       "       [0.01022547],\n",
       "       [0.9567199 ],\n",
       "       [0.03950512],\n",
       "       [0.08356789],\n",
       "       [0.02968284],\n",
       "       [0.00548503],\n",
       "       [0.00689894],\n",
       "       [0.02708149],\n",
       "       [0.9491379 ],\n",
       "       [0.0726687 ],\n",
       "       [0.02899253],\n",
       "       [0.9975447 ],\n",
       "       [0.42119217],\n",
       "       [0.02171382],\n",
       "       [0.12752345],\n",
       "       [0.0134894 ],\n",
       "       [0.905651  ],\n",
       "       [0.9697375 ],\n",
       "       [0.01346847],\n",
       "       [0.97658795],\n",
       "       [0.01152569],\n",
       "       [0.99154425],\n",
       "       [0.886662  ],\n",
       "       [0.85408425],\n",
       "       [0.01930118],\n",
       "       [0.9362602 ],\n",
       "       [0.22394484],\n",
       "       [0.01802495],\n",
       "       [0.97709423],\n",
       "       [0.96566725],\n",
       "       [0.01117796],\n",
       "       [0.94524217],\n",
       "       [0.01946753],\n",
       "       [0.02782935],\n",
       "       [0.02271059],\n",
       "       [0.994085  ],\n",
       "       [0.9710051 ],\n",
       "       [0.6597352 ],\n",
       "       [0.01119253],\n",
       "       [0.09027302],\n",
       "       [0.00802606],\n",
       "       [0.02141431],\n",
       "       [0.92707837],\n",
       "       [0.01449004],\n",
       "       [0.00944823],\n",
       "       [0.9883851 ],\n",
       "       [0.86718404],\n",
       "       [0.90360355],\n",
       "       [0.9637778 ],\n",
       "       [0.02249208],\n",
       "       [0.9425912 ],\n",
       "       [0.03147078],\n",
       "       [0.0309903 ],\n",
       "       [0.9201158 ],\n",
       "       [0.5882358 ],\n",
       "       [0.07290325],\n",
       "       [0.9446387 ],\n",
       "       [0.12490439],\n",
       "       [0.8856981 ],\n",
       "       [0.03272945],\n",
       "       [0.01154172],\n",
       "       [0.00899917],\n",
       "       [0.97496104],\n",
       "       [0.8427622 ],\n",
       "       [0.00862753],\n",
       "       [0.01842707],\n",
       "       [0.01529968],\n",
       "       [0.9892304 ],\n",
       "       [0.01093516],\n",
       "       [0.0244222 ],\n",
       "       [0.9727855 ],\n",
       "       [0.00980878],\n",
       "       [0.00831601],\n",
       "       [0.02070835],\n",
       "       [0.01144588],\n",
       "       [0.9072744 ],\n",
       "       [0.0089637 ],\n",
       "       [0.9641933 ],\n",
       "       [0.00361317],\n",
       "       [0.51330465],\n",
       "       [0.9586588 ],\n",
       "       [0.01234579],\n",
       "       [0.03111133],\n",
       "       [0.02192456],\n",
       "       [0.00391474],\n",
       "       [0.00401828],\n",
       "       [0.01164281],\n",
       "       [0.9509348 ],\n",
       "       [0.78544605],\n",
       "       [0.02969828],\n",
       "       [0.01358014],\n",
       "       [0.01128277],\n",
       "       [0.00394925],\n",
       "       [0.06360468]], dtype=float32)"
      ]
     },
     "execution_count": 31,
     "metadata": {},
     "output_type": "execute_result"
    }
   ],
   "source": [
    "model.predict(scaled_X_test)"
   ]
  },
  {
   "cell_type": "markdown",
   "metadata": {},
   "source": [
    "# Evaluating Model Performance\n",
    "\n",
    "So how well did we do? How do we actually measure \"well\". Is 95% accuracy good enough? It all depends on the situation. Also we need to take into account things like recall and precision. Make sure to watch the video discussion on classification evaluation before running this code!"
   ]
  },
  {
   "cell_type": "code",
   "execution_count": 32,
   "metadata": {},
   "outputs": [
    {
     "data": {
      "text/plain": [
       "['loss', 'accuracy']"
      ]
     },
     "execution_count": 32,
     "metadata": {},
     "output_type": "execute_result"
    }
   ],
   "source": [
    "model.metrics_names"
   ]
  },
  {
   "cell_type": "code",
   "execution_count": 33,
   "metadata": {},
   "outputs": [
    {
     "name": "stdout",
     "output_type": "stream",
     "text": [
      "15/15 [==============================] - 0s 1ms/step - loss: 0.1093 - accuracy: 0.9669\n"
     ]
    },
    {
     "data": {
      "text/plain": [
       "[0.10929170995950699, 0.9668874144554138]"
      ]
     },
     "execution_count": 33,
     "metadata": {},
     "output_type": "execute_result"
    }
   ],
   "source": [
    "model.evaluate(x=scaled_X_test,y=y_test)"
   ]
  },
  {
   "cell_type": "code",
   "execution_count": 34,
   "metadata": {},
   "outputs": [],
   "source": [
    "from sklearn.metrics import confusion_matrix,classification_report"
   ]
  },
  {
   "cell_type": "code",
   "execution_count": 51,
   "metadata": {},
   "outputs": [],
   "source": [
    "predictions= (model.predict(scaled_X_test) > 0.5).astype(\"int32\")"
   ]
  },
  {
   "cell_type": "code",
   "execution_count": 52,
   "metadata": {},
   "outputs": [
    {
     "data": {
      "text/plain": [
       "array([[253,   4],\n",
       "       [ 11, 185]], dtype=int64)"
      ]
     },
     "execution_count": 52,
     "metadata": {},
     "output_type": "execute_result"
    }
   ],
   "source": [
    "confusion_matrix(y_test,predictions)"
   ]
  },
  {
   "cell_type": "code",
   "execution_count": 53,
   "metadata": {},
   "outputs": [
    {
     "name": "stdout",
     "output_type": "stream",
     "text": [
      "              precision    recall  f1-score   support\n",
      "\n",
      "         0.0       0.96      0.98      0.97       257\n",
      "         1.0       0.98      0.94      0.96       196\n",
      "\n",
      "    accuracy                           0.97       453\n",
      "   macro avg       0.97      0.96      0.97       453\n",
      "weighted avg       0.97      0.97      0.97       453\n",
      "\n"
     ]
    }
   ],
   "source": [
    "print(classification_report(y_test,predictions))"
   ]
  },
  {
   "cell_type": "markdown",
   "metadata": {},
   "source": [
    "## Saving and Loading Models\n",
    "\n",
    "Now that we have a model trained, let's see how we can save and load it."
   ]
  },
  {
   "cell_type": "code",
   "execution_count": 54,
   "metadata": {},
   "outputs": [],
   "source": [
    "model.save('myfirstmodel.h5')"
   ]
  },
  {
   "cell_type": "code",
   "execution_count": 55,
   "metadata": {},
   "outputs": [],
   "source": [
    "from keras.models import load_model"
   ]
  },
  {
   "cell_type": "code",
   "execution_count": 56,
   "metadata": {},
   "outputs": [],
   "source": [
    "newmodel = load_model('myfirstmodel.h5')"
   ]
  },
  {
   "cell_type": "code",
   "execution_count": 58,
   "metadata": {},
   "outputs": [
    {
     "data": {
      "text/plain": [
       "array([[7.03628491e-15],\n",
       "       [9.01295971e-06],\n",
       "       [1.18065600e-07],\n",
       "       [4.88702979e-25],\n",
       "       [3.85645766e-14],\n",
       "       [7.13439377e-12],\n",
       "       [6.77842881e-16],\n",
       "       [1.34079854e-13],\n",
       "       [3.51087106e-13],\n",
       "       [1.16000136e-17],\n",
       "       [9.73421454e-01],\n",
       "       [9.47519302e-01],\n",
       "       [6.07120336e-18],\n",
       "       [8.85376334e-02],\n",
       "       [2.25406551e-17],\n",
       "       [9.95266795e-01],\n",
       "       [9.99999702e-01],\n",
       "       [1.00000000e+00],\n",
       "       [1.07108269e-08],\n",
       "       [7.75693715e-01],\n",
       "       [3.54605176e-15],\n",
       "       [4.60868046e-17],\n",
       "       [9.99253869e-01],\n",
       "       [1.16099418e-15],\n",
       "       [1.00000000e+00],\n",
       "       [1.58301920e-14],\n",
       "       [1.62331171e-19],\n",
       "       [8.89572501e-01],\n",
       "       [6.77223818e-20],\n",
       "       [1.25243355e-18],\n",
       "       [9.86769557e-01],\n",
       "       [1.63111134e-15],\n",
       "       [2.74228611e-13],\n",
       "       [1.00000000e+00],\n",
       "       [1.00000000e+00],\n",
       "       [7.75879533e-17],\n",
       "       [9.67824697e-01],\n",
       "       [9.54820931e-01],\n",
       "       [9.46939826e-01],\n",
       "       [1.90262354e-16],\n",
       "       [3.22485745e-19],\n",
       "       [9.79815423e-01],\n",
       "       [9.46264863e-01],\n",
       "       [8.67394857e-15],\n",
       "       [1.00000000e+00],\n",
       "       [1.65489316e-03],\n",
       "       [9.99997735e-01],\n",
       "       [3.03274211e-10],\n",
       "       [2.64375013e-15],\n",
       "       [9.95564222e-01],\n",
       "       [3.05432679e-09],\n",
       "       [6.48965050e-15],\n",
       "       [1.47933047e-16],\n",
       "       [8.79187165e-16],\n",
       "       [2.40285249e-13],\n",
       "       [9.59841013e-01],\n",
       "       [3.79913137e-18],\n",
       "       [1.32791026e-17],\n",
       "       [6.64930833e-10],\n",
       "       [7.29836807e-17],\n",
       "       [9.99995947e-01],\n",
       "       [1.26188766e-15],\n",
       "       [9.98771191e-01],\n",
       "       [3.31637528e-21],\n",
       "       [2.57162597e-22],\n",
       "       [2.05517139e-16],\n",
       "       [5.02637874e-16],\n",
       "       [1.68875976e-15],\n",
       "       [5.16163555e-13],\n",
       "       [9.99237537e-01],\n",
       "       [9.79423523e-04],\n",
       "       [3.83286000e-14],\n",
       "       [4.96046232e-05],\n",
       "       [8.98338064e-17],\n",
       "       [9.99324083e-01],\n",
       "       [3.18735838e-03],\n",
       "       [3.13340742e-10],\n",
       "       [9.50930536e-01],\n",
       "       [9.99999523e-01],\n",
       "       [9.47382390e-01],\n",
       "       [9.46178675e-01],\n",
       "       [9.48701017e-06],\n",
       "       [9.98244882e-01],\n",
       "       [1.04225392e-15],\n",
       "       [4.35797290e-07],\n",
       "       [4.36234169e-19],\n",
       "       [1.95320424e-16],\n",
       "       [1.00000000e+00],\n",
       "       [9.98709261e-01],\n",
       "       [1.68394716e-16],\n",
       "       [1.38915712e-15],\n",
       "       [2.13057718e-16],\n",
       "       [9.91002440e-01],\n",
       "       [9.71836746e-01],\n",
       "       [2.88641750e-16],\n",
       "       [6.86550140e-03],\n",
       "       [1.00000000e+00],\n",
       "       [3.01642333e-09],\n",
       "       [7.79401517e-15],\n",
       "       [1.44001060e-08],\n",
       "       [1.38640404e-04],\n",
       "       [1.28254406e-12],\n",
       "       [4.43128420e-15],\n",
       "       [1.59697627e-13],\n",
       "       [1.00000000e+00],\n",
       "       [1.01312061e-14],\n",
       "       [6.62933657e-14],\n",
       "       [9.97552752e-01],\n",
       "       [5.04807247e-07],\n",
       "       [1.10509734e-06],\n",
       "       [9.99967873e-01],\n",
       "       [9.68915462e-01],\n",
       "       [1.54757431e-20],\n",
       "       [1.00000000e+00],\n",
       "       [9.99353170e-01],\n",
       "       [9.99999285e-01],\n",
       "       [1.78363549e-18],\n",
       "       [1.00000000e+00],\n",
       "       [4.42118653e-06],\n",
       "       [1.52208216e-13],\n",
       "       [1.46200782e-05],\n",
       "       [5.75707559e-14],\n",
       "       [9.60420132e-01],\n",
       "       [2.85537655e-19],\n",
       "       [9.99336362e-01],\n",
       "       [8.52673459e-17],\n",
       "       [9.99998271e-01],\n",
       "       [9.96354878e-01],\n",
       "       [5.56775212e-15],\n",
       "       [9.85562205e-01],\n",
       "       [1.00000000e+00],\n",
       "       [1.69867060e-23],\n",
       "       [1.63023958e-16],\n",
       "       [1.36887316e-11],\n",
       "       [1.09327264e-16],\n",
       "       [1.28046471e-11],\n",
       "       [9.99526381e-01],\n",
       "       [1.05483985e-18],\n",
       "       [2.01470148e-13],\n",
       "       [1.18497014e-03],\n",
       "       [1.34584347e-13],\n",
       "       [1.82533222e-09],\n",
       "       [9.27395463e-01],\n",
       "       [2.62838244e-17],\n",
       "       [9.85151172e-01],\n",
       "       [9.91231322e-01],\n",
       "       [9.97672021e-01],\n",
       "       [9.96878743e-01],\n",
       "       [9.97110367e-01],\n",
       "       [2.21994291e-15],\n",
       "       [9.88845468e-01],\n",
       "       [9.99648333e-01],\n",
       "       [1.05798460e-06],\n",
       "       [8.38134862e-19],\n",
       "       [9.65371251e-01],\n",
       "       [7.84591267e-17],\n",
       "       [9.73024368e-01],\n",
       "       [1.49233282e-16],\n",
       "       [1.14736320e-15],\n",
       "       [1.80876991e-16],\n",
       "       [1.00000000e+00],\n",
       "       [9.99995947e-01],\n",
       "       [9.99464095e-01],\n",
       "       [1.00000000e+00],\n",
       "       [9.59432423e-01],\n",
       "       [4.29527099e-17],\n",
       "       [9.99977887e-01],\n",
       "       [3.82729273e-18],\n",
       "       [7.57108406e-18],\n",
       "       [6.64843208e-14],\n",
       "       [4.20010426e-09],\n",
       "       [3.66759866e-16],\n",
       "       [9.87508347e-14],\n",
       "       [9.99999404e-01],\n",
       "       [7.94773000e-17],\n",
       "       [2.57220269e-16],\n",
       "       [9.99776125e-01],\n",
       "       [1.00000000e+00],\n",
       "       [7.15964628e-14],\n",
       "       [1.36282307e-16],\n",
       "       [2.37415691e-07],\n",
       "       [6.13764708e-23],\n",
       "       [9.99998391e-01],\n",
       "       [7.77672265e-17],\n",
       "       [9.99951124e-01],\n",
       "       [7.43791675e-17],\n",
       "       [3.10877724e-08],\n",
       "       [9.46545005e-01],\n",
       "       [5.54373138e-18],\n",
       "       [6.61774507e-16],\n",
       "       [9.99998808e-01],\n",
       "       [1.89704212e-17],\n",
       "       [5.67799442e-13],\n",
       "       [9.99999344e-01],\n",
       "       [9.99540567e-01],\n",
       "       [9.99841571e-01],\n",
       "       [9.59870815e-01],\n",
       "       [3.72466898e-18],\n",
       "       [2.83676152e-16],\n",
       "       [1.00000000e+00],\n",
       "       [9.56857800e-01],\n",
       "       [1.00000000e+00],\n",
       "       [1.34917069e-11],\n",
       "       [9.66408646e-24],\n",
       "       [9.98715341e-01],\n",
       "       [9.99995708e-01],\n",
       "       [9.99999642e-01],\n",
       "       [9.86883759e-01],\n",
       "       [2.41216137e-16],\n",
       "       [1.07269564e-12],\n",
       "       [3.92079353e-04],\n",
       "       [4.10432984e-19],\n",
       "       [8.88705711e-17],\n",
       "       [2.25070229e-09],\n",
       "       [1.32958220e-18],\n",
       "       [4.56210251e-16],\n",
       "       [3.18735838e-03],\n",
       "       [1.31647055e-14],\n",
       "       [1.00000000e+00],\n",
       "       [4.67453003e-02],\n",
       "       [7.53852248e-01],\n",
       "       [9.99893248e-01],\n",
       "       [9.99930978e-01],\n",
       "       [7.96619715e-14],\n",
       "       [9.99148488e-01],\n",
       "       [6.29183595e-14],\n",
       "       [7.74522412e-24],\n",
       "       [1.43105984e-02],\n",
       "       [2.54306087e-08],\n",
       "       [9.68779027e-01],\n",
       "       [9.99999106e-01],\n",
       "       [1.45465700e-17],\n",
       "       [9.99366999e-01],\n",
       "       [4.17565686e-15],\n",
       "       [6.90370798e-04],\n",
       "       [9.99936938e-01],\n",
       "       [9.87980902e-01],\n",
       "       [9.99951959e-01],\n",
       "       [1.02087579e-14],\n",
       "       [4.33096050e-12],\n",
       "       [2.83497448e-10],\n",
       "       [3.96516919e-03],\n",
       "       [8.60551283e-11],\n",
       "       [1.00000000e+00],\n",
       "       [9.99999285e-01],\n",
       "       [9.99992132e-01],\n",
       "       [2.96368039e-18],\n",
       "       [6.79269475e-15],\n",
       "       [1.00692365e-17],\n",
       "       [5.46639743e-15],\n",
       "       [4.03123163e-18],\n",
       "       [1.01001483e-13],\n",
       "       [9.99987364e-01],\n",
       "       [1.39434109e-08],\n",
       "       [9.90709662e-01],\n",
       "       [2.30909805e-11],\n",
       "       [1.81218796e-13],\n",
       "       [1.06001574e-17],\n",
       "       [9.99999523e-01],\n",
       "       [9.99497473e-01],\n",
       "       [8.39025045e-17],\n",
       "       [1.39002347e-08],\n",
       "       [1.73504277e-13],\n",
       "       [9.99999523e-01],\n",
       "       [9.97082591e-01],\n",
       "       [5.12374160e-14],\n",
       "       [9.48187351e-01],\n",
       "       [6.43877042e-14],\n",
       "       [1.00000000e+00],\n",
       "       [9.96277988e-01],\n",
       "       [1.00000000e+00],\n",
       "       [9.60128069e-01],\n",
       "       [6.10702555e-09],\n",
       "       [9.01181738e-06],\n",
       "       [8.00831932e-18],\n",
       "       [4.90837384e-22],\n",
       "       [1.25935334e-15],\n",
       "       [2.76178471e-05],\n",
       "       [3.32193887e-14],\n",
       "       [7.25456411e-14],\n",
       "       [9.99999166e-01],\n",
       "       [1.32945980e-19],\n",
       "       [9.99955118e-01],\n",
       "       [9.63383765e-15],\n",
       "       [5.94431220e-18],\n",
       "       [9.10937786e-03],\n",
       "       [2.14119155e-18],\n",
       "       [1.19164797e-18],\n",
       "       [2.70615744e-14],\n",
       "       [2.72154059e-22],\n",
       "       [1.64469415e-12],\n",
       "       [1.00000000e+00],\n",
       "       [1.00000000e+00],\n",
       "       [1.86256642e-16],\n",
       "       [1.00000000e+00],\n",
       "       [2.45921971e-17],\n",
       "       [9.99961615e-01],\n",
       "       [9.98377979e-01],\n",
       "       [3.14222056e-19],\n",
       "       [3.91989946e-04],\n",
       "       [4.42078358e-22],\n",
       "       [3.52423220e-15],\n",
       "       [7.02651053e-18],\n",
       "       [1.05549760e-15],\n",
       "       [2.22048281e-17],\n",
       "       [4.51494117e-07],\n",
       "       [1.00000000e+00],\n",
       "       [9.99953032e-01],\n",
       "       [2.31656163e-15],\n",
       "       [8.51464319e-17],\n",
       "       [9.95894253e-01],\n",
       "       [3.08930874e-04],\n",
       "       [1.97520867e-14],\n",
       "       [2.73621143e-12],\n",
       "       [3.90190518e-16],\n",
       "       [2.06891913e-18],\n",
       "       [1.33940130e-08],\n",
       "       [9.26475704e-18],\n",
       "       [1.00000000e+00],\n",
       "       [1.73726127e-17],\n",
       "       [9.88793850e-01],\n",
       "       [9.96078134e-01],\n",
       "       [1.00000000e+00],\n",
       "       [2.35810416e-09],\n",
       "       [5.55109940e-13],\n",
       "       [3.77416761e-12],\n",
       "       [1.85741856e-20],\n",
       "       [9.68920708e-01],\n",
       "       [2.19551070e-12],\n",
       "       [2.17826140e-21],\n",
       "       [2.24326131e-21],\n",
       "       [1.66715068e-15],\n",
       "       [1.21431629e-08],\n",
       "       [4.72756723e-09],\n",
       "       [5.91130118e-13],\n",
       "       [9.99946237e-01],\n",
       "       [1.89721015e-06],\n",
       "       [8.99092866e-12],\n",
       "       [1.78822309e-01],\n",
       "       [9.93088007e-01],\n",
       "       [9.99664664e-01],\n",
       "       [2.81716450e-14],\n",
       "       [9.98796046e-01],\n",
       "       [9.99999762e-01],\n",
       "       [1.29854969e-18],\n",
       "       [9.82547760e-01],\n",
       "       [4.82542217e-02],\n",
       "       [9.90687421e-10],\n",
       "       [5.73509129e-10],\n",
       "       [9.96578455e-01],\n",
       "       [5.02300543e-16],\n",
       "       [2.54364945e-18],\n",
       "       [9.92874324e-01],\n",
       "       [8.78271739e-13],\n",
       "       [9.99881029e-01],\n",
       "       [9.95746476e-19],\n",
       "       [9.80113745e-01],\n",
       "       [9.99051154e-01],\n",
       "       [5.02896034e-19],\n",
       "       [4.63728503e-17],\n",
       "       [9.94909406e-01],\n",
       "       [5.14616455e-16],\n",
       "       [1.54751434e-10],\n",
       "       [1.08898963e-16],\n",
       "       [6.72600202e-19],\n",
       "       [4.35614114e-18],\n",
       "       [2.65136400e-16],\n",
       "       [2.67204344e-02],\n",
       "       [7.56828637e-17],\n",
       "       [3.97930983e-13],\n",
       "       [1.00000000e+00],\n",
       "       [1.62094831e-04],\n",
       "       [3.31417796e-19],\n",
       "       [8.42726711e-17],\n",
       "       [7.15215182e-18],\n",
       "       [1.29565597e-03],\n",
       "       [9.99898434e-01],\n",
       "       [9.64073462e-18],\n",
       "       [9.99992013e-01],\n",
       "       [1.14322031e-13],\n",
       "       [1.00000000e+00],\n",
       "       [4.27247584e-02],\n",
       "       [9.59958255e-01],\n",
       "       [1.87290783e-09],\n",
       "       [9.99606669e-01],\n",
       "       [9.99409795e-01],\n",
       "       [4.38274363e-14],\n",
       "       [9.99988973e-01],\n",
       "       [9.99923706e-01],\n",
       "       [1.42714965e-10],\n",
       "       [1.35922015e-01],\n",
       "       [5.85920721e-20],\n",
       "       [8.35463561e-14],\n",
       "       [6.03700100e-14],\n",
       "       [1.00000000e+00],\n",
       "       [9.46948051e-01],\n",
       "       [9.87534702e-01],\n",
       "       [1.70789584e-13],\n",
       "       [5.20392426e-17],\n",
       "       [9.26141420e-15],\n",
       "       [1.15698034e-14],\n",
       "       [6.71595335e-03],\n",
       "       [9.17111275e-19],\n",
       "       [9.44536697e-17],\n",
       "       [9.99994278e-01],\n",
       "       [6.29274055e-09],\n",
       "       [9.92891192e-01],\n",
       "       [9.99207258e-01],\n",
       "       [1.29383334e-13],\n",
       "       [9.99762416e-01],\n",
       "       [9.64250978e-16],\n",
       "       [2.10568021e-11],\n",
       "       [9.54137087e-01],\n",
       "       [9.97797608e-01],\n",
       "       [1.37284078e-13],\n",
       "       [4.04005618e-07],\n",
       "       [1.65814276e-17],\n",
       "       [9.73274827e-01],\n",
       "       [1.04761179e-14],\n",
       "       [3.59752206e-14],\n",
       "       [6.40660675e-16],\n",
       "       [9.99992549e-01],\n",
       "       [9.99270320e-01],\n",
       "       [7.38549037e-19],\n",
       "       [5.16056602e-08],\n",
       "       [4.41442682e-16],\n",
       "       [9.99426961e-01],\n",
       "       [3.09222054e-18],\n",
       "       [3.77139353e-14],\n",
       "       [9.99990165e-01],\n",
       "       [3.67567476e-19],\n",
       "       [1.78200512e-16],\n",
       "       [1.90501864e-10],\n",
       "       [6.77383323e-22],\n",
       "       [9.49123085e-01],\n",
       "       [1.59866451e-17],\n",
       "       [9.99091506e-01],\n",
       "       [2.52858248e-21],\n",
       "       [3.91989946e-04],\n",
       "       [9.92066741e-01],\n",
       "       [3.11433415e-14],\n",
       "       [1.87510570e-13],\n",
       "       [6.61140183e-19],\n",
       "       [2.37723267e-21],\n",
       "       [5.36228799e-21],\n",
       "       [4.47799146e-14],\n",
       "       [9.47098851e-01],\n",
       "       [1.17240241e-07],\n",
       "       [2.80912683e-14],\n",
       "       [2.75344386e-10],\n",
       "       [4.67999150e-16],\n",
       "       [8.90241017e-21],\n",
       "       [2.37415691e-07]], dtype=float32)"
      ]
     },
     "execution_count": 58,
     "metadata": {},
     "output_type": "execute_result"
    }
   ],
   "source": [
    "newmodel.predict(X_test)"
   ]
  },
  {
   "cell_type": "markdown",
   "metadata": {},
   "source": [
    "Great job! You now know how to preprocess data, train a neural network, and evaluate its classification performance!"
   ]
  }
 ],
 "metadata": {
  "kernelspec": {
   "display_name": "Python 3 (ipykernel)",
   "language": "python",
   "name": "python3"
  },
  "language_info": {
   "codemirror_mode": {
    "name": "ipython",
    "version": 3
   },
   "file_extension": ".py",
   "mimetype": "text/x-python",
   "name": "python",
   "nbconvert_exporter": "python",
   "pygments_lexer": "ipython3",
   "version": "3.9.7"
  }
 },
 "nbformat": 4,
 "nbformat_minor": 4
}
