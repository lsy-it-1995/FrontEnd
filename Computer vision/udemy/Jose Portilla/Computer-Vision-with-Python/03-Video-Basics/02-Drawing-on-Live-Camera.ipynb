{
 "cells": [
  {
   "cell_type": "markdown",
   "metadata": {},
   "source": [
    "<a href=\"https://www.pieriandata.com\"><img src=\"../DATA/Logo.jpg\"></a>\n",
    "\n",
    "<em text-align:center>Copyright Pierian Data Inc.</em>"
   ]
  },
  {
   "cell_type": "markdown",
   "metadata": {},
   "source": [
    "# Drawing on Video\n",
    "\n",
    "Often as we analyze video using techniques like object detection or facial recognition, we'll want to draw an image on the video, like a box around a face.\n",
    "\n",
    "Let's learn the basics of drawing on video with OpenCV!"
   ]
  },
  {
   "cell_type": "code",
   "execution_count": 2,
   "metadata": {},
   "outputs": [],
   "source": [
    "import cv2\n",
    "\n",
    "cap = cv2.VideoCapture(0)\n",
    "\n",
    "width = int(cap.get(cv2.CAP_PROP_FRAME_WIDTH))\n",
    "height = int(cap.get(cv2.CAP_PROP_FRAME_HEIGHT))\n",
    "\n",
    "x = width//2\n",
    "y = height//2\n",
    "\n",
    "w = width//4\n",
    "h = height//4\n",
    "\n",
    "while True:\n",
    "    ret, frame = cap.read()\n",
    "    cv2.rectangle(frame, (x,y), (x+w, y+h), color=(0,0,255), thickness = 4)\n",
    "    cv2.imshow('frame', frame)\n",
    "    if cv2.waitKey(1) &  0xFF == ord('q'):\n",
    "        break\n",
    "cap.release()\n",
    "cv2.destroyAllWindows()"
   ]
  },
  {
   "cell_type": "markdown",
   "metadata": {},
   "source": [
    "--------"
   ]
  },
  {
   "cell_type": "markdown",
   "metadata": {},
   "source": [
    "## Interactive Drawing on Video\n",
    "\n",
    "We won't really use this as often, but let's go through it just in case!"
   ]
  },
  {
   "cell_type": "code",
   "execution_count": 2,
   "metadata": {},
   "outputs": [],
   "source": [
    "import cv2 \n",
    "import numpy as np\n",
    "\n",
    "def draw_rec(event, x, y, flags, param):\n",
    "    global pt1, pt2, top_left, bot_right\n",
    "    \n",
    "    if event == cv2.EVENT_LBUTTONDBLCLK:\n",
    "        if top_left and bot_right:\n",
    "            pt1 = (0,0)\n",
    "            pt2 = (0,0)\n",
    "            top_left = False\n",
    "            bot_right = False \n",
    "        if top_left == False:\n",
    "            pt1 = (x,y)\n",
    "            top_left = True\n",
    "        elif bot_right == False:\n",
    "            pt2 = (x,y)\n",
    "            bot_right = True\n",
    "\n",
    "pt1 = (0,0)\n",
    "pt2 = (0,0)\n",
    "top_left = False\n",
    "bot_right = False\n",
    "\n",
    "cap = cv2.VideoCapture(0)\n",
    "cv2.namedWindow('Test')\n",
    "\n",
    "cv2.setMouseCallback('Test', draw_rec)\n",
    "\n",
    "\n",
    "while True:\n",
    "    ret, frame = cap.read()\n",
    "    if top_left:\n",
    "        cv2.circle(frame, center = pt1, radius = 3, color = (0,0,255), thickness = -1)\n",
    "    if top_left and bot_right:\n",
    "        cv2.rectangle(frame, pt1, pt2, (0,0,255),2)\n",
    "    cv2.imshow('Test', frame)\n",
    "    if cv2.waitKey(1) & 0xFF == ord('q'):\n",
    "        break\n",
    "\n",
    "cap.release()\n",
    "cv2.destroyAllWindows()"
   ]
  },
  {
   "cell_type": "code",
   "execution_count": null,
   "metadata": {},
   "outputs": [],
   "source": []
  }
 ],
 "metadata": {
  "kernelspec": {
   "display_name": "Python 3 (ipykernel)",
   "language": "python",
   "name": "python3"
  },
  "language_info": {
   "codemirror_mode": {
    "name": "ipython",
    "version": 3
   },
   "file_extension": ".py",
   "mimetype": "text/x-python",
   "name": "python",
   "nbconvert_exporter": "python",
   "pygments_lexer": "ipython3",
   "version": "3.9.7"
  }
 },
 "nbformat": 4,
 "nbformat_minor": 4
}
